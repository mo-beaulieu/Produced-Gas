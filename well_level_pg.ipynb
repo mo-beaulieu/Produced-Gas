{
 "cells": [
  {
   "cell_type": "code",
   "execution_count": null,
   "id": "a11a8b03",
   "metadata": {},
   "outputs": [],
   "source": [
    "import pandas as pd"
   ]
  },
  {
   "cell_type": "code",
   "execution_count": null,
   "id": "808b586f",
   "metadata": {},
   "outputs": [],
   "source": [
    "# Load the CSV file into a DataFrame\n",
    "df_event_pg = pd.read_csv('well_event_pg_values.csv', parse_dates=['timestamp'])\n",
    "\n",
    "# Check the unique pads\n",
    "print(\"Pads in data:\", df_event_pg['pad'].unique())\n",
    "\n",
    "# Create a dictionary of DataFrames, one per pad\n",
    "pad_dfs = {}\n",
    "for pad in df_event_pg['pad'].unique():\n",
    "    pad_dfs[pad] = df_event_pg[df_event_pg['pad'] == pad].reset_index(drop=True)\n",
    "\n",
    "# Example: show the first few rows for each pad\n",
    "for pad, df in pad_dfs.items():\n",
    "    print(f\"\\nPad: {pad}\")\n",
    "    print(df.head())"
   ]
  }
 ],
 "metadata": {
  "language_info": {
   "name": "python"
  }
 },
 "nbformat": 4,
 "nbformat_minor": 5
}
