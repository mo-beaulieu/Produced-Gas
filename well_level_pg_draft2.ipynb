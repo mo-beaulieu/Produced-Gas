{
 "cells": [
  {
   "cell_type": "markdown",
   "id": "e65d29c2",
   "metadata": {},
   "source": [
    "# Well Level Produced Gas"
   ]
  },
  {
   "cell_type": "markdown",
   "id": "fa8efddf",
   "metadata": {},
   "source": [
    "README"
   ]
  },
  {
   "cell_type": "markdown",
   "id": "536c9663",
   "metadata": {},
   "source": [
    "## Import Libraries"
   ]
  },
  {
   "cell_type": "code",
   "execution_count": null,
   "id": "5e774970",
   "metadata": {},
   "outputs": [],
   "source": [
    "import pandas as pd\n",
    "import matplotlib.pyplot as plt\n",
    "import seaborn as sns\n",
    "import re"
   ]
  },
  {
   "cell_type": "code",
   "execution_count": null,
   "id": "a2a5d779",
   "metadata": {},
   "outputs": [],
   "source": [
    "def load_and_preprocess_data(filepath='well_event_pg_values.csv'):\n",
    "    df_event_pg = pd.read_csv(filepath, parse_dates=['timestamp'])\n",
    "    df_event_pg['pad'] = df_event_pg['well'].apply(extract_pad)\n",
    "    df_target_pads = filter_target_pads(df_event_pg)\n",
    "    return df_target_pads"
   ]
  },
  {
   "cell_type": "code",
   "execution_count": null,
   "id": "f235aaef",
   "metadata": {},
   "outputs": [],
   "source": [
    "\n",
    "def extract_pad(well):\n",
    "    # If well starts with 2 digits and 1 letter (e.g. '15W'), pad = '1' + digits (-> '115')\n",
    "    m1 = re.match(r'^(\\d{2})([A-Za-z])', well)\n",
    "    if m1:\n",
    "        return '1' + m1.group(1)\n",
    "    # If well starts with 2 digits, 2 letters, and 1 digit (e.g. '7WP'), pad = '1' + digits (-> '107')\n",
    "    m2 = re.match(r'^(\\d)([A-Za-z]{2})', well)\n",
    "    if m2:\n",
    "        return '10' + m2.group(1)\n",
    "    # If well starts with 2 digits, 1 letter, 1 letter, and 1 digit (e.g. '16W'), pad = '1' + digits (-> '116')\n",
    "    m3 = re.match(r'^(\\d{2})([A-Za-z]{1})', well)\n",
    "    if m3:\n",
    "        return '1' + m3.group(1)\n",
    "    # If well starts with 3 digits (e.g. '106W13'), pad = those digits\n",
    "    m4 = re.match(r'^(\\d{3})', well)\n",
    "    if m4:\n",
    "        return m4.group(1)\n",
    "    # Otherwise, fallback to first 3 chars\n",
    "    return well[:3]"
   ]
  },
  {
   "cell_type": "code",
   "execution_count": null,
   "id": "bc1b411b",
   "metadata": {},
   "outputs": [],
   "source": [
    "\n",
    "def filter_target_pads(df, target_pads=None):\n",
    "    \"\"\"\n",
    "    Returns a DataFrame filtered to only include rows with pad in target_pads.\n",
    "    Pads are strings, e.g. ['105', '106', '107', '108', '116']\n",
    "    \"\"\"\n",
    "    if target_pads is None:\n",
    "        target_pads = ['105', '106', '107', '108', '116']\n",
    "    return df[df['pad'].astype(str).isin(target_pads)].reset_index(drop=True)\n"
   ]
  },
  {
   "cell_type": "code",
   "execution_count": null,
   "id": "7d3929c4",
   "metadata": {},
   "outputs": [],
   "source": []
  }
 ],
 "metadata": {
  "language_info": {
   "name": "python"
  }
 },
 "nbformat": 4,
 "nbformat_minor": 5
}
